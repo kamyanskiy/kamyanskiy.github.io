{
 "cells": [
  {
   "cell_type": "markdown",
   "metadata": {},
   "source": [
    "It's possible to create article from .ipynb file, just add file to my pelican site content folder and create file with the same name but with extension **.ipybn-meta**, with next content:\n",
    "```\n",
    "Title: Function annotations\n",
    "Category: Blog\n",
    "Tags: jupyter, notebook\n",
    "\n",
    "```\n",
    "Then during pelican generates site, if \"ipynb.markup\" plugin installed properly, it will be article like you see now.\n",
    "All content here was created in [Jupyter](http://jupyter.readthedocs.io/en/latest/), stored on disk as **functions-annotations.ipynb**, then file **functions-annotations.ipynb-meta** was created with content I posted above and then Pelican creates html with proper markup.\n",
    "\n",
    "### Functions annotations\n",
    "Function annotations are completely optional metadata information about the types used by user-defined functions (see PEP 484 for more information).\n",
    "\n",
    "Annotations are stored in the `__annotations__` attribute of the function as a dictionary and have no effect on any other part of the function. Parameter annotations are defined by a colon after the parameter name, followed by an expression evaluating to the value of the annotation. Return annotations are defined by a literal ->, followed by an expression, between the parameter list and the colon denoting the end of the def statement. The following example has a positional argument, a keyword argument, and the return value annotated:"
   ]
  },
  {
   "cell_type": "code",
   "execution_count": 1,
   "metadata": {},
   "outputs": [
    {
     "name": "stdout",
     "output_type": "stream",
     "text": [
      "Annotations: {'var': <class 'int'>, 'return': <class 'int'>}\n"
     ]
    },
    {
     "data": {
      "text/plain": [
       "5"
      ]
     },
     "execution_count": 1,
     "metadata": {},
     "output_type": "execute_result"
    }
   ],
   "source": [
    "def func(var: int) -> int:\n",
    "    print(\"Annotations:\", func.__annotations__)\n",
    "    return var\n",
    "\n",
    "func(5)"
   ]
  },
  {
   "cell_type": "markdown",
   "metadata": {},
   "source": [
    "It's possible to annotate functions in python 3"
   ]
  }
 ],
 "metadata": {
  "kernelspec": {
   "display_name": "Python 3",
   "language": "python",
   "name": "python3"
  },
  "language_info": {
   "codemirror_mode": {
    "name": "ipython",
    "version": 3.0
   },
   "file_extension": ".py",
   "mimetype": "text/x-python",
   "name": "python",
   "nbconvert_exporter": "python",
   "pygments_lexer": "ipython3",
   "version": "3.6.1+"
  }
 },
 "nbformat": 4,
 "nbformat_minor": 0
}